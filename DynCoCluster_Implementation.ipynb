{
 "cells": [
  {
   "cell_type": "code",
   "execution_count": null,
   "id": "6dd64543",
   "metadata": {},
   "outputs": [],
   "source": [
    "\n",
    "import pandas as pd\n",
    "import numpy as np\n",
    "from sklearn.model_selection import train_test_split\n",
    "from sklearn.feature_extraction.text import TfidfVectorizer\n",
    "from sklearn.metrics import precision_score, recall_score, f1_score\n",
    "from sklearn.cluster import KMeans\n",
    "from sklearn.decomposition import TruncatedSVD\n",
    "from sklearn.pipeline import make_pipeline\n",
    "from sklearn.preprocessing import Normalizer\n",
    "import matplotlib.pyplot as plt\n",
    "import seaborn as sns\n"
   ]
  },
  {
   "cell_type": "code",
   "execution_count": null,
   "id": "ab3a6551",
   "metadata": {},
   "outputs": [],
   "source": [
    "\n",
    "df = pd.read_csv('simulated_amazon_reviews.csv')  # Replace with actual path\n",
    "df.head()\n"
   ]
  },
  {
   "cell_type": "code",
   "execution_count": null,
   "id": "ccaad06b",
   "metadata": {},
   "outputs": [],
   "source": [
    "\n",
    "df.dropna(subset=['review_text'], inplace=True)\n",
    "df['review_text'] = df['review_text'].str.lower()\n"
   ]
  },
  {
   "cell_type": "code",
   "execution_count": null,
   "id": "9d2f2a4d",
   "metadata": {},
   "outputs": [],
   "source": [
    "\n",
    "tfidf = TfidfVectorizer(max_df=0.8, min_df=5, stop_words='english')\n",
    "X_tfidf = tfidf.fit_transform(df['review_text'])\n"
   ]
  },
  {
   "cell_type": "code",
   "execution_count": null,
   "id": "e450bd8d",
   "metadata": {},
   "outputs": [],
   "source": [
    "\n",
    "svd = TruncatedSVD(n_components=100)\n",
    "normalizer = Normalizer(copy=False)\n",
    "lsa = make_pipeline(svd, normalizer)\n",
    "X_lsa = lsa.fit_transform(X_tfidf)\n"
   ]
  },
  {
   "cell_type": "code",
   "execution_count": null,
   "id": "d778a9ec",
   "metadata": {},
   "outputs": [],
   "source": [
    "\n",
    "kmeans = KMeans(n_clusters=10, random_state=42)\n",
    "labels = kmeans.fit_predict(X_lsa)\n",
    "df['cluster'] = labels\n",
    "df[['review_text', 'cluster']].head()\n"
   ]
  },
  {
   "cell_type": "code",
   "execution_count": null,
   "id": "d55ab269",
   "metadata": {},
   "outputs": [],
   "source": [
    "\n",
    "# For demonstration only, simulate ground truth and calculate metrics\n",
    "true_labels = df['category'].astype('category').cat.codes.values[:len(labels)]\n",
    "precision = precision_score(true_labels, labels, average='macro')\n",
    "recall = recall_score(true_labels, labels, average='macro')\n",
    "f1 = f1_score(true_labels, labels, average='macro')\n",
    "precision, recall, f1\n"
   ]
  }
 ],
 "metadata": {},
 "nbformat": 4,
 "nbformat_minor": 5
}
